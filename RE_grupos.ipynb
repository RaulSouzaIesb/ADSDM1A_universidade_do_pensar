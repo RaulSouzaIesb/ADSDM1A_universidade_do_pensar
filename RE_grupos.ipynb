{
  "nbformat": 4,
  "nbformat_minor": 0,
  "metadata": {
    "colab": {
      "provenance": [],
      "authorship_tag": "ABX9TyOJIgH8U/03klBAtuZlkxl4",
      "include_colab_link": true
    },
    "kernelspec": {
      "name": "python3",
      "display_name": "Python 3"
    },
    "language_info": {
      "name": "python"
    }
  },
  "cells": [
    {
      "cell_type": "markdown",
      "metadata": {
        "id": "view-in-github",
        "colab_type": "text"
      },
      "source": [
        "<a href=\"https://colab.research.google.com/github/RaulSouzaIesb/ADSDM1A_universidade_do_pensar/blob/main/RE_grupos.ipynb\" target=\"_parent\"><img src=\"https://colab.research.google.com/assets/colab-badge.svg\" alt=\"Open In Colab\"/></a>"
      ]
    },
    {
      "cell_type": "code",
      "execution_count": 17,
      "metadata": {
        "colab": {
          "base_uri": "https://localhost:8080/"
        },
        "id": "HLJUm3nH2ayX",
        "outputId": "d110620c-c3a5-4e33-f1b0-3608d0b828f4"
      },
      "outputs": [
        {
          "output_type": "stream",
          "name": "stdout",
          "text": [
            "ab/12/1999\n",
            "ab\n",
            "12\n",
            "1999\n",
            "(0, 10)\n",
            "(0, 2)\n",
            "(3, 5)\n",
            "(6, 10)\n",
            "('ab', '12', '1999')\n"
          ]
        }
      ],
      "source": [
        "import re\n",
        "\n",
        "m = re.search(r'([a-z][a-z])/(..)/(....)','ab/12/1999')\n",
        "if m:\n",
        "    print (m.group(0))               # 31/12/1999\n",
        "    print (m.group(1))               # 31\n",
        "    print (m.group(2))               # 12\n",
        "    print (m.group(3))               # 1999\n",
        "    print (m.span(0) )               # (0, 10)\n",
        "    print (m.span(1) )               # (0, 2)\n",
        "    print (m.span(2) )               # (3, 5)\n",
        "    print (m.span(3) )               # (6, 10)\n",
        "    print (m.groups())               # (‘31’,’12’, ‘1999’)\n",
        "else:\n",
        "    print (\"rejeitou\")"
      ]
    }
  ]
}